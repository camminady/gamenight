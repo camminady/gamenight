{
 "cells": [
  {
   "cell_type": "code",
   "execution_count": null,
   "metadata": {
    "id": "Jray-y0klNsT"
   },
   "outputs": [],
   "source": [
    "import numpy as np\n",
    "import time\n",
    "import matplotlib.pyplot as plt\n",
    "import sys\n",
    "\n",
    "#sys.path.insert(0, '/content/drive/My Drive/Colab Notebooks/gamenight')      ## <<<<< for Google Colab\n",
    "sys.path.insert(0, 'dummydirectory')\n",
    "\n",
    "from arena import letsplay \n",
    "from scoring import score_stich, score_game\n",
    "\n",
    "from group0 import play as player0\n",
    "from group1 import play as player1\n",
    "\n",
    "players = [player0,player0,player1,player1]"
   ]
  },
  {
   "cell_type": "code",
   "execution_count": null,
   "metadata": {
    "colab": {
     "base_uri": "https://localhost:8080/",
     "height": 1000
    },
    "id": "5ClkKgO2wTcQ",
    "outputId": "603931e6-9695-49a3-e6a4-09ee2476c9e9"
   },
   "outputs": [],
   "source": [
    "letsplay(players,10,True,score_stich,score_game);"
   ]
  }
 ],
 "metadata": {
  "colab": {
   "collapsed_sections": [],
   "name": "Competition.ipynb",
   "provenance": []
  },
  "kernelspec": {
   "display_name": "Python 3",
   "language": "python",
   "name": "python3"
  },
  "language_info": {
   "codemirror_mode": {
    "name": "ipython",
    "version": 3
   },
   "file_extension": ".py",
   "mimetype": "text/x-python",
   "name": "python",
   "nbconvert_exporter": "python",
   "pygments_lexer": "ipython3",
   "version": "3.8.5"
  }
 },
 "nbformat": 4,
 "nbformat_minor": 4
}
